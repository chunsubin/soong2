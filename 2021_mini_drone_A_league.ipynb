{
  "nbformat": 4,
  "nbformat_minor": 0,
  "metadata": {
    "colab": {
      "name": "2021-mini-drone_A-league.ipynb",
      "provenance": [],
      "collapsed_sections": [],
      "include_colab_link": true
    },
    "kernelspec": {
      "name": "python3",
      "display_name": "Python 3"
    },
    "language_info": {
      "name": "python"
    }
  },
  "cells": [
    {
      "cell_type": "markdown",
      "metadata": {
        "id": "view-in-github",
        "colab_type": "text"
      },
      "source": [
        "<a href=\"https://colab.research.google.com/github/chunsubin/my-first-blog/blob/master/2021_mini_drone_A_league.ipynb\" target=\"_parent\"><img src=\"https://colab.research.google.com/assets/colab-badge.svg\" alt=\"Open In Colab\"/></a>"
      ]
    },
    {
      "cell_type": "markdown",
      "metadata": {
        "id": "18AwjQFW1qlI"
      },
      "source": [
        "# **set_threshold_with_hsv.m**\n",
        "\n",
        "---"
      ]
    },
    {
      "cell_type": "code",
      "metadata": {
        "id": "NYtpzgIO1oyK"
      },
      "source": [
        "% Tello drone object\n",
        "drone = ryze();\n",
        "\n",
        "% Camera object\n",
        "cam = camera(drone);\n",
        "\n",
        "% init treshold\n",
        "th_down = 0.5;\n",
        "th_up = 0.55;\n",
        "\n",
        "\n",
        "while 1\n",
        "    % Capture an image from the drone's camera\n",
        "    frame = snapshot(cam);\n",
        "    subplot(2,1,1), subimage(frame);\n",
        "    pause(1);\n",
        "    \n",
        "    \n",
        "    % Get the hue data of the image\n",
        "    hsv = rgb2hsv(frame);\n",
        "    h = hsv(:,:,1);\n",
        "    \n",
        "    \n",
        "    % imshow current binary image\n",
        "    if (th_up - th_down) < 0\n",
        "        binary_res = (th_down<h)+(h<th_up);\n",
        "    else\n",
        "        binary_res = (th_down<h)&(h<th_up);\n",
        "    end\n",
        "    subplot(2,1,2), subimage(binary_res);                                           \n",
        "    disp(\"th_down: \" + th_down + \"   th_up: \" + th_up);\n",
        "    \n",
        "    \n",
        "    % keyboard input & adjust the threshold value\n",
        "    x = input(\"(quit: q, up: e, down: d) \\ninput: \", 's'); disp(newline);\n",
        "    if x == 'q'\n",
        "        disp(\"* final th_down: \" + th_down + \"   fianl th_up: \" + th_up);\n",
        "        break\n",
        "    elseif x == 'e'\n",
        "        th_down = th_down + 0.025;\n",
        "        th_up = th_up + 0.025;\n",
        "    elseif x == 'd'\n",
        "        th_down = th_down - 0.025;\n",
        "        th_up = th_up - 0.025;\n",
        "    end\n",
        "    \n",
        "    if th_down > 1\n",
        "        th_down = th_down - 1;\n",
        "    elseif th_down < 0\n",
        "        th_down = th_down + 1;\n",
        "    end  \n",
        "    \n",
        "    if th_up > 1\n",
        "        th_up = th_up - 1;\n",
        "    elseif th_up < 0\n",
        "        th_up = th_up + 1;\n",
        "    end\n",
        "end"
      ],
      "execution_count": null,
      "outputs": []
    },
    {
      "cell_type": "markdown",
      "metadata": {
        "id": "D7cqER1m101g"
      },
      "source": [
        "# **control_with_img_process.m**\n",
        "\n",
        "---"
      ]
    },
    {
      "cell_type": "code",
      "metadata": {
        "id": "ndAbxf9e15v6"
      },
      "source": [
        "try\n",
        "    drone = ryze();\n",
        "    cam = camera(drone);\n",
        "\n",
        "    % (1) takeoff\n",
        "    takeoff(drone);\n",
        "    pause(3);\n",
        "\n",
        "    % (2) moveright & search red color\n",
        "    while 1\n",
        "        moveright(drone, 'Distance', 0.2);\n",
        "        pause(3);\n",
        "\n",
        "        frame = snapshot(cam);\n",
        "        pause(2);\n",
        "\n",
        "        hsv = rgb2hsv(frame);\n",
        "        h = hsv(:,:,1);\n",
        "        detect_red = (h>1)+(h<0.05);\n",
        "\n",
        "        if sum(detect_red, 'all') >= 17000\n",
        "            % red color detected\n",
        "            break\n",
        "        end\n",
        "    end\n",
        "\n",
        "    % (3) moveup & search green color\n",
        "    while 1\n",
        "        moveup(drone, 'Distance', 0.2);\n",
        "        pause(3);\n",
        "\n",
        "        frame = snapshot(cam);\n",
        "        pause(2);\n",
        "\n",
        "        hsv = rgb2hsv(frame);\n",
        "        h = hsv(:,:,1);\n",
        "        detect_green = (0.275<h)&(h<0.325);\n",
        "\n",
        "        if sum(detect_green, 'all') >= 14000\n",
        "            % green color detected\n",
        "            break\n",
        "        end\n",
        "    end\n",
        "\n",
        "    % (4) moveright & search blue color\n",
        "    while 1\n",
        "        moveright(drone, 'Distance', 0.2);\n",
        "        pause(3);\n",
        "\n",
        "        frame = snapshot(cam);\n",
        "        pause(2);\n",
        "\n",
        "        hsv = rgb2hsv(frame);\n",
        "        h = hsv(:,:,1);\n",
        "        detect_blue = (0.575<h)&(h<0.625);\n",
        "\n",
        "        if sum(detect_blue, 'all') >= 15000\n",
        "            % blue color detected\n",
        "            break\n",
        "        end\n",
        "    end\n",
        "\n",
        "    % (5) land\n",
        "    land(drone);\n",
        "    \n",
        "    \n",
        "catch error\n",
        "    disp(error);\n",
        "    clear;\n",
        "    \n",
        "end"
      ],
      "execution_count": null,
      "outputs": []
    }
  ]
}